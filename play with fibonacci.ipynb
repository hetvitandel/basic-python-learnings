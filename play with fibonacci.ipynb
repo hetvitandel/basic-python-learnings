{
 "cells": [
  {
   "cell_type": "code",
   "execution_count": 10,
   "id": "43dfcc90",
   "metadata": {},
   "outputs": [
    {
     "name": "stdout",
     "output_type": "stream",
     "text": [
      "0\n",
      "1\n",
      "1\n",
      "2\n",
      "3\n",
      "5\n",
      "8\n",
      "13\n",
      "21\n",
      "34\n",
      "55\n"
     ]
    }
   ],
   "source": [
    "def fibonacci(n):\n",
    "    a=0\n",
    "    b=1\n",
    "    print(a)\n",
    "    print(b)   \n",
    "    for i in range(1,n):        \n",
    "        shift=a+b\n",
    "        a=b\n",
    "        b=shift\n",
    "        print(shift)\n",
    "        \n",
    "fibonacci(10)"
   ]
  },
  {
   "cell_type": "code",
   "execution_count": 9,
   "id": "2fdb149b",
   "metadata": {},
   "outputs": [
    {
     "name": "stdout",
     "output_type": "stream",
     "text": [
      "please enter the number10\n",
      "0\n",
      "1\n",
      "1\n",
      "2\n",
      "3\n",
      "5\n",
      "8\n",
      "13\n",
      "21\n",
      "34\n",
      "55\n"
     ]
    }
   ],
   "source": [
    "# just practicing with user input\n",
    "\n",
    "n= int(input(\"please enter the number\"))\n",
    "def fibonacci(n):\n",
    "    a=0\n",
    "    b=1\n",
    "    #print(a)\n",
    "    #print(b)\n",
    "    if n < 0:\n",
    "          print(\"please enter positive value\")\n",
    "    elif n == 0:\n",
    "          print(a)\n",
    "    elif n == 1:\n",
    "          print(b)\n",
    "    else: \n",
    "        print(a)\n",
    "        print(b)\n",
    "        for i in range(1,n):\n",
    "            shift = a+b\n",
    "            a = b\n",
    "            b = shift\n",
    "            print(shift)\n",
    "        \n",
    "fibonacci(n)"
   ]
  },
  {
   "cell_type": "code",
   "execution_count": null,
   "id": "96afd5ab",
   "metadata": {},
   "outputs": [],
   "source": []
  },
  {
   "cell_type": "code",
   "execution_count": null,
   "id": "ff3af5a7",
   "metadata": {},
   "outputs": [],
   "source": []
  }
 ],
 "metadata": {
  "kernelspec": {
   "display_name": "Python 3 (ipykernel)",
   "language": "python",
   "name": "python3"
  },
  "language_info": {
   "codemirror_mode": {
    "name": "ipython",
    "version": 3
   },
   "file_extension": ".py",
   "mimetype": "text/x-python",
   "name": "python",
   "nbconvert_exporter": "python",
   "pygments_lexer": "ipython3",
   "version": "3.9.7"
  }
 },
 "nbformat": 4,
 "nbformat_minor": 5
}
