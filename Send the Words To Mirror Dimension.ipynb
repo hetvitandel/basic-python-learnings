{
 "cells": [
  {
   "cell_type": "code",
   "execution_count": 8,
   "id": "9865c620",
   "metadata": {},
   "outputs": [
    {
     "name": "stdout",
     "output_type": "stream",
     "text": [
      "enter your wordhetvi\n",
      "hetvi\n",
      "your reversed word is\n",
      "ivteh\n"
     ]
    }
   ],
   "source": [
    "word = input(str(\"enter your word\"))\n",
    "print(word)\n",
    "reversed = word[::-1]\n",
    "print(\"your reversed word is\")\n",
    "print(reversed)"
   ]
  },
  {
   "cell_type": "code",
   "execution_count": null,
   "id": "c5652b42",
   "metadata": {},
   "outputs": [],
   "source": []
  }
 ],
 "metadata": {
  "kernelspec": {
   "display_name": "Python 3 (ipykernel)",
   "language": "python",
   "name": "python3"
  },
  "language_info": {
   "codemirror_mode": {
    "name": "ipython",
    "version": 3
   },
   "file_extension": ".py",
   "mimetype": "text/x-python",
   "name": "python",
   "nbconvert_exporter": "python",
   "pygments_lexer": "ipython3",
   "version": "3.9.7"
  }
 },
 "nbformat": 4,
 "nbformat_minor": 5
}
